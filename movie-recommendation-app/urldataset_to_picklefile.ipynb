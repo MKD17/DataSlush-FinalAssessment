{
  "cells": [
    {
      "cell_type": "code",
      "execution_count": 1,
      "metadata": {
        "colab": {
          "base_uri": "https://localhost:8080/"
        },
        "id": "hyl-DJPVniGY",
        "outputId": "16cd6dcd-006d-4f5c-e220-f022812ce97f"
      },
      "outputs": [
        {
          "output_type": "stream",
          "name": "stdout",
          "text": [
            "Dataset has been saved to netflix_movies.pkl\n"
          ]
        }
      ],
      "source": [
        "import pickle\n",
        "import pandas as pd\n",
        "\n",
        "#Loaded the dataset directly from the URL\n",
        "url = 'https://raw.githubusercontent.com/datum-oracle/netflix-movie-titles/main/titles.csv'\n",
        "df = pd.read_csv(url)\n",
        "\n",
        "#Saved the DataFrame to a pickle file\n",
        "pickle_filename = 'netflix_movies.pkl'\n",
        "with open(pickle_filename, 'wb') as file:\n",
        "    pickle.dump(df, file)\n",
        "\n",
        "print(f'Dataset has been saved to {pickle_filename}')\n"
      ]
    }
  ],
  "metadata": {
    "colab": {
      "provenance": []
    },
    "kernelspec": {
      "display_name": "Python 3",
      "name": "python3"
    },
    "language_info": {
      "name": "python"
    }
  },
  "nbformat": 4,
  "nbformat_minor": 0
}